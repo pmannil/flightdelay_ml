{
  "nbformat": 4,
  "nbformat_minor": 0,
  "metadata": {
    "colab": {
      "name": "module3.ipynb",
      "version": "0.3.2",
      "provenance": [],
      "include_colab_link": true
    },
    "kernelspec": {
      "name": "python3",
      "display_name": "Python 3"
    }
  },
  "cells": [
    {
      "cell_type": "markdown",
      "metadata": {
        "id": "view-in-github",
        "colab_type": "text"
      },
      "source": [
        "<a href=\"https://colab.research.google.com/github/pmannil/flightdelay_ml/blob/master/module3.ipynb\" target=\"_parent\"><img src=\"https://colab.research.google.com/assets/colab-badge.svg\" alt=\"Open In Colab\"/></a>"
      ]
    },
    {
      "cell_type": "code",
      "metadata": {
        "id": "0k3vBbQ9lUl3",
        "colab_type": "code",
        "outputId": "794a9e19-adbf-4153-a4a6-009090107d56",
        "colab": {
          "base_uri": "https://localhost:8080/",
          "height": 35
        }
      },
      "source": [
        "from google.colab import drive\n",
        "drive.mount('/content/gdrive')"
      ],
      "execution_count": 0,
      "outputs": [
        {
          "output_type": "stream",
          "text": [
            "Drive already mounted at /content/gdrive; to attempt to forcibly remount, call drive.mount(\"/content/gdrive\", force_remount=True).\n"
          ],
          "name": "stdout"
        }
      ]
    },
    {
      "cell_type": "code",
      "metadata": {
        "id": "OUjNfZhTlrP1",
        "colab_type": "code",
        "colab": {}
      },
      "source": [
        "from google.colab import files\n",
        "import pandas as pd\n",
        "import numpy as np\n",
        "from sklearn.linear_model import LinearRegression\n",
        "from sklearn.ensemble import ExtraTreesRegressor\n",
        "from sklearn.ensemble import GradientBoostingRegressor\n",
        "import xgboost as xgb\n",
        "from sklearn.ensemble import RandomForestRegressor\n",
        "from sklearn.ensemble import RandomForestClassifier\n",
        "from sklearn.model_selection import train_test_split\n",
        "from sklearn.metrics import mean_squared_error, r2_score, mean_absolute_error\n"
      ],
      "execution_count": 0,
      "outputs": []
    },
    {
      "cell_type": "code",
      "metadata": {
        "id": "8SZzBUVWmVxp",
        "colab_type": "code",
        "colab": {}
      },
      "source": [
        "df=pd.read_csv('/content/gdrive/My Drive/1.csv')"
      ],
      "execution_count": 0,
      "outputs": []
    },
    {
      "cell_type": "code",
      "metadata": {
        "id": "VFj0isgamfvB",
        "colab_type": "code",
        "colab": {}
      },
      "source": [
        "pf1=df.drop(['nearest_hoursArr', 'nearest_hoursDep'], axis=1)"
      ],
      "execution_count": 0,
      "outputs": []
    },
    {
      "cell_type": "code",
      "metadata": {
        "id": "RN9jZKh-moCF",
        "colab_type": "code",
        "colab": {}
      },
      "source": [
        "pf1['ArrDel15']=pf1.ArrDel15.astype(int)\n"
      ],
      "execution_count": 0,
      "outputs": []
    },
    {
      "cell_type": "code",
      "metadata": {
        "id": "oZ_RBuGbojb2",
        "colab_type": "code",
        "outputId": "4c894b29-2e6a-4cd4-cac2-9cf6d1324ce2",
        "colab": {
          "base_uri": "https://localhost:8080/",
          "height": 305
        }
      },
      "source": [
        "pf1.head()"
      ],
      "execution_count": 0,
      "outputs": [
        {
          "output_type": "execute_result",
          "data": {
            "text/html": [
              "<div>\n",
              "<style scoped>\n",
              "    .dataframe tbody tr th:only-of-type {\n",
              "        vertical-align: middle;\n",
              "    }\n",
              "\n",
              "    .dataframe tbody tr th {\n",
              "        vertical-align: top;\n",
              "    }\n",
              "\n",
              "    .dataframe thead th {\n",
              "        text-align: right;\n",
              "    }\n",
              "</style>\n",
              "<table border=\"1\" class=\"dataframe\">\n",
              "  <thead>\n",
              "    <tr style=\"text-align: right;\">\n",
              "      <th></th>\n",
              "      <th>Cloudcover</th>\n",
              "      <th>DewPointF</th>\n",
              "      <th>Humidity</th>\n",
              "      <th>Pressure</th>\n",
              "      <th>Visibilty</th>\n",
              "      <th>WeatherCode</th>\n",
              "      <th>WindChillF</th>\n",
              "      <th>WindDirDegree</th>\n",
              "      <th>WindGustKmph</th>\n",
              "      <th>WindSpeedKmph</th>\n",
              "      <th>airport</th>\n",
              "      <th>date</th>\n",
              "      <th>precipMM</th>\n",
              "      <th>tempF</th>\n",
              "      <th>time</th>\n",
              "      <th>Year</th>\n",
              "      <th>Quarter</th>\n",
              "      <th>Month</th>\n",
              "      <th>DayofMonth</th>\n",
              "      <th>FlightDate</th>\n",
              "      <th>OriginAirportID</th>\n",
              "      <th>Origin</th>\n",
              "      <th>DestAirportID</th>\n",
              "      <th>Dest</th>\n",
              "      <th>CRSDepTime</th>\n",
              "      <th>DepTime</th>\n",
              "      <th>DepDelayMinutes</th>\n",
              "      <th>DepDel15</th>\n",
              "      <th>CRSArrTime</th>\n",
              "      <th>ArrTime</th>\n",
              "      <th>ArrDelayMinutes</th>\n",
              "      <th>ArrDel15</th>\n",
              "    </tr>\n",
              "  </thead>\n",
              "  <tbody>\n",
              "    <tr>\n",
              "      <th>0</th>\n",
              "      <td>57</td>\n",
              "      <td>70</td>\n",
              "      <td>89</td>\n",
              "      <td>1021</td>\n",
              "      <td>9</td>\n",
              "      <td>176</td>\n",
              "      <td>74</td>\n",
              "      <td>147</td>\n",
              "      <td>10</td>\n",
              "      <td>5</td>\n",
              "      <td>MCO</td>\n",
              "      <td>2016-01-01</td>\n",
              "      <td>2.5</td>\n",
              "      <td>74</td>\n",
              "      <td>0</td>\n",
              "      <td>2016</td>\n",
              "      <td>1</td>\n",
              "      <td>1</td>\n",
              "      <td>1</td>\n",
              "      <td>2016-01-01</td>\n",
              "      <td>13204</td>\n",
              "      <td>MCO</td>\n",
              "      <td>13303</td>\n",
              "      <td>MIA</td>\n",
              "      <td>1630</td>\n",
              "      <td>0</td>\n",
              "      <td>0.0</td>\n",
              "      <td>0.0</td>\n",
              "      <td>1739</td>\n",
              "      <td>0</td>\n",
              "      <td>0.0</td>\n",
              "      <td>0</td>\n",
              "    </tr>\n",
              "    <tr>\n",
              "      <th>1</th>\n",
              "      <td>87</td>\n",
              "      <td>70</td>\n",
              "      <td>97</td>\n",
              "      <td>1019</td>\n",
              "      <td>6</td>\n",
              "      <td>302</td>\n",
              "      <td>71</td>\n",
              "      <td>226</td>\n",
              "      <td>7</td>\n",
              "      <td>4</td>\n",
              "      <td>MCO</td>\n",
              "      <td>2016-01-01</td>\n",
              "      <td>3.4</td>\n",
              "      <td>71</td>\n",
              "      <td>500</td>\n",
              "      <td>2016</td>\n",
              "      <td>1</td>\n",
              "      <td>1</td>\n",
              "      <td>1</td>\n",
              "      <td>2016-01-01</td>\n",
              "      <td>13204</td>\n",
              "      <td>MCO</td>\n",
              "      <td>13303</td>\n",
              "      <td>MIA</td>\n",
              "      <td>500</td>\n",
              "      <td>503</td>\n",
              "      <td>3.0</td>\n",
              "      <td>0.0</td>\n",
              "      <td>603</td>\n",
              "      <td>559</td>\n",
              "      <td>0.0</td>\n",
              "      <td>0</td>\n",
              "    </tr>\n",
              "    <tr>\n",
              "      <th>2</th>\n",
              "      <td>87</td>\n",
              "      <td>70</td>\n",
              "      <td>97</td>\n",
              "      <td>1019</td>\n",
              "      <td>6</td>\n",
              "      <td>302</td>\n",
              "      <td>71</td>\n",
              "      <td>226</td>\n",
              "      <td>7</td>\n",
              "      <td>4</td>\n",
              "      <td>MCO</td>\n",
              "      <td>2016-01-01</td>\n",
              "      <td>3.4</td>\n",
              "      <td>71</td>\n",
              "      <td>500</td>\n",
              "      <td>2016</td>\n",
              "      <td>1</td>\n",
              "      <td>1</td>\n",
              "      <td>1</td>\n",
              "      <td>2016-01-01</td>\n",
              "      <td>13204</td>\n",
              "      <td>MCO</td>\n",
              "      <td>11618</td>\n",
              "      <td>EWR</td>\n",
              "      <td>530</td>\n",
              "      <td>527</td>\n",
              "      <td>0.0</td>\n",
              "      <td>0.0</td>\n",
              "      <td>759</td>\n",
              "      <td>741</td>\n",
              "      <td>0.0</td>\n",
              "      <td>0</td>\n",
              "    </tr>\n",
              "    <tr>\n",
              "      <th>3</th>\n",
              "      <td>84</td>\n",
              "      <td>71</td>\n",
              "      <td>97</td>\n",
              "      <td>1019</td>\n",
              "      <td>5</td>\n",
              "      <td>302</td>\n",
              "      <td>71</td>\n",
              "      <td>240</td>\n",
              "      <td>6</td>\n",
              "      <td>3</td>\n",
              "      <td>MCO</td>\n",
              "      <td>2016-01-01</td>\n",
              "      <td>2.1</td>\n",
              "      <td>72</td>\n",
              "      <td>600</td>\n",
              "      <td>2016</td>\n",
              "      <td>1</td>\n",
              "      <td>1</td>\n",
              "      <td>1</td>\n",
              "      <td>2016-01-01</td>\n",
              "      <td>13204</td>\n",
              "      <td>MCO</td>\n",
              "      <td>11298</td>\n",
              "      <td>DFW</td>\n",
              "      <td>600</td>\n",
              "      <td>612</td>\n",
              "      <td>12.0</td>\n",
              "      <td>0.0</td>\n",
              "      <td>801</td>\n",
              "      <td>800</td>\n",
              "      <td>0.0</td>\n",
              "      <td>0</td>\n",
              "    </tr>\n",
              "    <tr>\n",
              "      <th>4</th>\n",
              "      <td>84</td>\n",
              "      <td>71</td>\n",
              "      <td>97</td>\n",
              "      <td>1019</td>\n",
              "      <td>5</td>\n",
              "      <td>302</td>\n",
              "      <td>71</td>\n",
              "      <td>240</td>\n",
              "      <td>6</td>\n",
              "      <td>3</td>\n",
              "      <td>MCO</td>\n",
              "      <td>2016-01-01</td>\n",
              "      <td>2.1</td>\n",
              "      <td>72</td>\n",
              "      <td>600</td>\n",
              "      <td>2016</td>\n",
              "      <td>1</td>\n",
              "      <td>1</td>\n",
              "      <td>1</td>\n",
              "      <td>2016-01-01</td>\n",
              "      <td>13204</td>\n",
              "      <td>MCO</td>\n",
              "      <td>12478</td>\n",
              "      <td>JFK</td>\n",
              "      <td>604</td>\n",
              "      <td>625</td>\n",
              "      <td>21.0</td>\n",
              "      <td>1.0</td>\n",
              "      <td>830</td>\n",
              "      <td>850</td>\n",
              "      <td>20.0</td>\n",
              "      <td>1</td>\n",
              "    </tr>\n",
              "  </tbody>\n",
              "</table>\n",
              "</div>"
            ],
            "text/plain": [
              "   Cloudcover  DewPointF  Humidity  ...  ArrTime  ArrDelayMinutes  ArrDel15\n",
              "0          57         70        89  ...        0              0.0         0\n",
              "1          87         70        97  ...      559              0.0         0\n",
              "2          87         70        97  ...      741              0.0         0\n",
              "3          84         71        97  ...      800              0.0         0\n",
              "4          84         71        97  ...      850             20.0         1\n",
              "\n",
              "[5 rows x 32 columns]"
            ]
          },
          "metadata": {
            "tags": []
          },
          "execution_count": 6
        }
      ]
    },
    {
      "cell_type": "code",
      "metadata": {
        "id": "IivgbdXDnE1c",
        "colab_type": "code",
        "colab": {}
      },
      "source": [
        "pf1['ArrDelayMinutes']=pf1.ArrDelayMinutes.astype(int)"
      ],
      "execution_count": 0,
      "outputs": []
    },
    {
      "cell_type": "code",
      "metadata": {
        "id": "6qKSR328nrYX",
        "colab_type": "code",
        "colab": {}
      },
      "source": [
        "pf1 = pf1[pf1[\"ArrDel15\"]==1]\n",
        "l = np.asarray(pf1[\"ArrDelayMinutes\"])"
      ],
      "execution_count": 0,
      "outputs": []
    },
    {
      "cell_type": "code",
      "metadata": {
        "id": "exvnsHZ2o_DP",
        "colab_type": "code",
        "colab": {}
      },
      "source": [
        "need=pf1.drop([\"date\",\"airport\",\"ArrTime\",\"ArrDelayMinutes\",\"ArrDel15\",\"DepDel15\",\"FlightDate\"],axis=1)"
      ],
      "execution_count": 0,
      "outputs": []
    },
    {
      "cell_type": "code",
      "metadata": {
        "id": "OpzCulfbpsRS",
        "colab_type": "code",
        "colab": {}
      },
      "source": [
        "need = need.reset_index(drop=True)\n",
        "need.drop(['Origin'],axis=1, inplace=True)\n",
        "need.drop(['Dest'],axis=1, inplace=True)\n",
        "f = np.asarray(need)"
      ],
      "execution_count": 0,
      "outputs": []
    },
    {
      "cell_type": "code",
      "metadata": {
        "id": "NueTk4bSqc98",
        "colab_type": "code",
        "colab": {}
      },
      "source": [
        "f_train,f_test, l_train, l_test = train_test_split(f, l, test_size=0.20, random_state=42)"
      ],
      "execution_count": 0,
      "outputs": []
    },
    {
      "cell_type": "code",
      "metadata": {
        "id": "1p0eNkcs-kjs",
        "colab_type": "code",
        "outputId": "c0ce0c1d-9b9a-44d1-f92d-a7c8cc378387",
        "colab": {
          "base_uri": "https://localhost:8080/",
          "height": 74
        }
      },
      "source": [
        "ran = RandomForestClassifier()\n",
        "ran.fit(f_train,l_train)\n",
        "pred = ran.predict(f_test)\n",
        "precision = precision_score(l_test, pred, average=\"weighted\")\n",
        "recall = recall_score(l_test, pred, average=\"weighted\")\n",
        "f1 = f1_score(l_test, pred, average=\"weighted\")\n",
        "print (\"Precision:\", precision)\n",
        "print (\"Recall:\", recall)\n",
        "print (\"F1 Score:\", f1)"
      ],
      "execution_count": 0,
      "outputs": [
        {
          "output_type": "stream",
          "text": [
            "/usr/local/lib/python3.6/dist-packages/sklearn/ensemble/forest.py:245: FutureWarning: The default value of n_estimators will change from 10 in version 0.20 to 100 in 0.22.\n",
            "  \"10 in version 0.20 to 100 in 0.22.\", FutureWarning)\n"
          ],
          "name": "stderr"
        }
      ]
    },
    {
      "cell_type": "markdown",
      "metadata": {
        "id": "mOqcHdJ8woWT",
        "colab_type": "text"
      },
      "source": [
        "**GradientBoostingRegressor**"
      ]
    },
    {
      "cell_type": "code",
      "metadata": {
        "id": "6NeerZfHwnit",
        "colab_type": "code",
        "outputId": "24028fd4-d46b-4144-a9d3-86ade1af099f",
        "colab": {
          "base_uri": "https://localhost:8080/",
          "height": 72
        }
      },
      "source": [
        "\n",
        "f_train,f_test, l_train, l_test = train_test_split(f, l, test_size=0.20, random_state=42)\n",
        "lg =GradientBoostingRegressor()\n",
        "lg.fit(f_train,l_train)\n",
        "pred = lg.predict(f_test)\n",
        "print(\"MAE:\\t\",mean_absolute_error(l_test,pred))\n",
        "print(\"RMSE:\\t\",np.sqrt(mean_squared_error(l_test,pred)))\n",
        "print(\"R2:\\t\",r2_score(l_test,pred))"
      ],
      "execution_count": 0,
      "outputs": [
        {
          "output_type": "stream",
          "text": [
            "MAE:\t 11.806749210343924\n",
            "RMSE:\t 17.132227512795776\n",
            "R2:\t 0.9424572847121273\n"
          ],
          "name": "stdout"
        }
      ]
    },
    {
      "cell_type": "markdown",
      "metadata": {
        "id": "Deih3s3itfim",
        "colab_type": "text"
      },
      "source": [
        "**ExtraTreeRegressor**"
      ]
    },
    {
      "cell_type": "code",
      "metadata": {
        "id": "0gy4Kc_zrKI7",
        "colab_type": "code",
        "outputId": "74e0c9ef-2f51-4b07-d2ce-784ff9b883d2",
        "colab": {
          "base_uri": "https://localhost:8080/",
          "height": 128
        }
      },
      "source": [
        "f_train,f_test, l_train, l_test = train_test_split(f, l, test_size=0.20, random_state=42)\n",
        "et =ExtraTreesRegressor()\n",
        "et.fit(f_train,l_train)\n",
        "pred = et.predict(f_test)\n",
        "print(\"MAE:\\t\",mean_absolute_error(l_test,pred))\n",
        "print(\"RMSE:\\t\",np.sqrt(mean_squared_error(l_test,pred)))\n",
        "print(\"R2:\\t\",r2_score(l_test,pred))"
      ],
      "execution_count": 0,
      "outputs": [
        {
          "output_type": "stream",
          "text": [
            "/usr/local/lib/python3.6/dist-packages/sklearn/ensemble/forest.py:245: FutureWarning: The default value of n_estimators will change from 10 in version 0.20 to 100 in 0.22.\n",
            "  \"10 in version 0.20 to 100 in 0.22.\", FutureWarning)\n"
          ],
          "name": "stderr"
        },
        {
          "output_type": "stream",
          "text": [
            "MAE:\t 12.586493098308601\n",
            "RMSE:\t 17.85248692619067\n",
            "R2:\t 0.9375172504463476\n"
          ],
          "name": "stdout"
        }
      ]
    },
    {
      "cell_type": "markdown",
      "metadata": {
        "id": "TbH7tDg4yB2Q",
        "colab_type": "text"
      },
      "source": [
        "**RandomForest**"
      ]
    },
    {
      "cell_type": "code",
      "metadata": {
        "id": "hfc0q39kxp1y",
        "colab_type": "code",
        "outputId": "fb61bddf-1f85-48cc-aa69-190948a3a7ef",
        "colab": {
          "base_uri": "https://localhost:8080/",
          "height": 128
        }
      },
      "source": [
        "\n",
        "f_train,f_test, l_train, l_test = train_test_split(f, l, test_size=0.20, random_state=42)\n",
        "rf =RandomForestRegressor()\n",
        "rf.fit(f_train,l_train)\n",
        "pred = rf.predict(f_test)\n",
        "print(\"MAE:\\t\",mean_absolute_error(l_test,pred))\n",
        "print(\"RMSE:\\t\",np.sqrt(mean_squared_error(l_test,pred)))\n",
        "print(\"R2:\\t\",r2_score(l_test,pred))"
      ],
      "execution_count": 0,
      "outputs": [
        {
          "output_type": "stream",
          "text": [
            "/usr/local/lib/python3.6/dist-packages/sklearn/ensemble/forest.py:245: FutureWarning: The default value of n_estimators will change from 10 in version 0.20 to 100 in 0.22.\n",
            "  \"10 in version 0.20 to 100 in 0.22.\", FutureWarning)\n"
          ],
          "name": "stderr"
        },
        {
          "output_type": "stream",
          "text": [
            "MAE:\t 12.568775840839868\n",
            "RMSE:\t 17.822581484923223\n",
            "R2:\t 0.9377264100039664\n"
          ],
          "name": "stdout"
        }
      ]
    },
    {
      "cell_type": "markdown",
      "metadata": {
        "id": "ELcgEm9Xyx04",
        "colab_type": "text"
      },
      "source": [
        "**XgbRegression**"
      ]
    },
    {
      "cell_type": "code",
      "metadata": {
        "id": "IL-J2eIjy6N2",
        "colab_type": "code",
        "outputId": "c073b0fb-15db-4b7d-c934-0b9f08f9168b",
        "colab": {
          "base_uri": "https://localhost:8080/",
          "height": 90
        }
      },
      "source": [
        "f_train,f_test, l_train, l_test = train_test_split(f, l, test_size=0.20, random_state=42)\n",
        "xg = xgb.XGBRegressor()\n",
        "xg.fit(f_train,l_train)\n",
        "pred = xg.predict(f_test)\n",
        "print(\"MAE:\\t\",mean_absolute_error(l_test,pred))\n",
        "print(\"RMSE:\\t\",np.sqrt(mean_squared_error(l_test,pred)))\n",
        "print(\"R2:\\t\",r2_score(l_test,pred))"
      ],
      "execution_count": 0,
      "outputs": [
        {
          "output_type": "stream",
          "text": [
            "[12:45:14] WARNING: /workspace/src/objective/regression_obj.cu:152: reg:linear is now deprecated in favor of reg:squarederror.\n",
            "MAE:\t 11.805639289896499\n",
            "RMSE:\t 17.130287000740125\n",
            "R2:\t 0.942470319328768\n"
          ],
          "name": "stdout"
        }
      ]
    }
  ]
}