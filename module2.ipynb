{
  "nbformat": 4,
  "nbformat_minor": 0,
  "metadata": {
    "colab": {
      "name": "module2.ipynb",
      "provenance": [],
      "collapsed_sections": [],
      "include_colab_link": true
    },
    "kernelspec": {
      "name": "python3",
      "display_name": "Python 3"
    }
  },
  "cells": [
    {
      "cell_type": "markdown",
      "metadata": {
        "id": "view-in-github",
        "colab_type": "text"
      },
      "source": [
        "<a href=\"https://colab.research.google.com/github/pmannil/flightdelay_ml/blob/master/module2.ipynb\" target=\"_parent\"><img src=\"https://colab.research.google.com/assets/colab-badge.svg\" alt=\"Open In Colab\"/></a>"
      ]
    },
    {
      "cell_type": "code",
      "metadata": {
        "id": "qmQOF7LIqSeI",
        "colab_type": "code",
        "colab": {
          "base_uri": "https://localhost:8080/",
          "height": 128
        },
        "outputId": "f63ed7b7-ea5e-40cb-9da0-621758cb0a33"
      },
      "source": [
        "from google.colab import drive\n",
        "drive.mount('/content/gdrive')"
      ],
      "execution_count": 1,
      "outputs": [
        {
          "output_type": "stream",
          "text": [
            "Go to this URL in a browser: https://accounts.google.com/o/oauth2/auth?client_id=947318989803-6bn6qk8qdgf4n4g3pfee6491hc0brc4i.apps.googleusercontent.com&redirect_uri=urn%3Aietf%3Awg%3Aoauth%3A2.0%3Aoob&scope=email%20https%3A%2F%2Fwww.googleapis.com%2Fauth%2Fdocs.test%20https%3A%2F%2Fwww.googleapis.com%2Fauth%2Fdrive%20https%3A%2F%2Fwww.googleapis.com%2Fauth%2Fdrive.photos.readonly%20https%3A%2F%2Fwww.googleapis.com%2Fauth%2Fpeopleapi.readonly&response_type=code\n",
            "\n",
            "Enter your authorization code:\n",
            "··········\n",
            "Mounted at /content/gdrive\n"
          ],
          "name": "stdout"
        }
      ]
    },
    {
      "cell_type": "code",
      "metadata": {
        "id": "yvVHvIcFqW6i",
        "colab_type": "code",
        "colab": {
          "base_uri": "https://localhost:8080/",
          "height": 74
        },
        "outputId": "3717a337-2a60-4e2d-9805-d1c2bb4f9441"
      },
      "source": [
        "import pandas as pd\n",
        "import numpy as np\n",
        "import os\n",
        "from sklearn.model_selection import train_test_split\n",
        "from sklearn.ensemble import RandomForestClassifier\n",
        "from sklearn.linear_model import LogisticRegression\n",
        "from sklearn.ensemble import ExtraTreesClassifier\n",
        "from sklearn import tree\n",
        "from sklearn import svm\n",
        "from sklearn.ensemble import GradientBoostingClassifier\n",
        "from sklearn.metrics import accuracy_score\n",
        "from sklearn.preprocessing import LabelEncoder\n",
        "from sklearn.metrics import accuracy_score, f1_score, precision_score, recall_score, classification_report\n",
        "from imblearn.over_sampling import SMOTE\n",
        "from imblearn.under_sampling import RandomUnderSampler\n",
        "from google.colab import files"
      ],
      "execution_count": 2,
      "outputs": [
        {
          "output_type": "stream",
          "text": [
            "/usr/local/lib/python3.6/dist-packages/sklearn/externals/six.py:31: DeprecationWarning: The module is deprecated in version 0.21 and will be removed in version 0.23 since we've dropped support for Python 2.7. Please rely on the official version of six (https://pypi.org/project/six/).\n",
            "  \"(https://pypi.org/project/six/).\", DeprecationWarning)\n"
          ],
          "name": "stderr"
        }
      ]
    },
    {
      "cell_type": "code",
      "metadata": {
        "id": "tPr-qj5cqj_T",
        "colab_type": "code",
        "colab": {}
      },
      "source": [
        "df=pd.read_csv('/content/gdrive/My Drive/ml/1.csv')"
      ],
      "execution_count": 0,
      "outputs": []
    },
    {
      "cell_type": "code",
      "metadata": {
        "id": "dTvIVJcWw6Nf",
        "colab_type": "code",
        "colab": {
          "base_uri": "https://localhost:8080/",
          "height": 305
        },
        "outputId": "12158edf-94b5-45e6-e8f6-410861771c80"
      },
      "source": [
        "df.head()"
      ],
      "execution_count": 5,
      "outputs": [
        {
          "output_type": "execute_result",
          "data": {
            "text/html": [
              "<div>\n",
              "<style scoped>\n",
              "    .dataframe tbody tr th:only-of-type {\n",
              "        vertical-align: middle;\n",
              "    }\n",
              "\n",
              "    .dataframe tbody tr th {\n",
              "        vertical-align: top;\n",
              "    }\n",
              "\n",
              "    .dataframe thead th {\n",
              "        text-align: right;\n",
              "    }\n",
              "</style>\n",
              "<table border=\"1\" class=\"dataframe\">\n",
              "  <thead>\n",
              "    <tr style=\"text-align: right;\">\n",
              "      <th></th>\n",
              "      <th>Cloudcover</th>\n",
              "      <th>DewPointF</th>\n",
              "      <th>Humidity</th>\n",
              "      <th>Pressure</th>\n",
              "      <th>Visibilty</th>\n",
              "      <th>WeatherCode</th>\n",
              "      <th>WindChillF</th>\n",
              "      <th>WindDirDegree</th>\n",
              "      <th>WindGustKmph</th>\n",
              "      <th>WindSpeedKmph</th>\n",
              "      <th>airport</th>\n",
              "      <th>date</th>\n",
              "      <th>precipMM</th>\n",
              "      <th>tempF</th>\n",
              "      <th>time</th>\n",
              "      <th>Year</th>\n",
              "      <th>Quarter</th>\n",
              "      <th>Month</th>\n",
              "      <th>DayofMonth</th>\n",
              "      <th>FlightDate</th>\n",
              "      <th>OriginAirportID</th>\n",
              "      <th>Origin</th>\n",
              "      <th>DestAirportID</th>\n",
              "      <th>Dest</th>\n",
              "      <th>CRSDepTime</th>\n",
              "      <th>DepTime</th>\n",
              "      <th>DepDelayMinutes</th>\n",
              "      <th>DepDel15</th>\n",
              "      <th>CRSArrTime</th>\n",
              "      <th>ArrTime</th>\n",
              "      <th>ArrDelayMinutes</th>\n",
              "      <th>ArrDel15</th>\n",
              "      <th>nearest_hoursArr</th>\n",
              "      <th>nearest_hoursDep</th>\n",
              "    </tr>\n",
              "  </thead>\n",
              "  <tbody>\n",
              "    <tr>\n",
              "      <th>0</th>\n",
              "      <td>57</td>\n",
              "      <td>70</td>\n",
              "      <td>89</td>\n",
              "      <td>1021</td>\n",
              "      <td>9</td>\n",
              "      <td>176</td>\n",
              "      <td>74</td>\n",
              "      <td>147</td>\n",
              "      <td>10</td>\n",
              "      <td>5</td>\n",
              "      <td>MCO</td>\n",
              "      <td>2016-01-01</td>\n",
              "      <td>2.5</td>\n",
              "      <td>74</td>\n",
              "      <td>0</td>\n",
              "      <td>2016</td>\n",
              "      <td>1</td>\n",
              "      <td>1</td>\n",
              "      <td>1</td>\n",
              "      <td>2016-01-01</td>\n",
              "      <td>13204</td>\n",
              "      <td>MCO</td>\n",
              "      <td>13303</td>\n",
              "      <td>MIA</td>\n",
              "      <td>1630</td>\n",
              "      <td>0</td>\n",
              "      <td>0.0</td>\n",
              "      <td>0.0</td>\n",
              "      <td>1739</td>\n",
              "      <td>0</td>\n",
              "      <td>0.0</td>\n",
              "      <td>0.0</td>\n",
              "      <td>0</td>\n",
              "      <td>0</td>\n",
              "    </tr>\n",
              "    <tr>\n",
              "      <th>1</th>\n",
              "      <td>87</td>\n",
              "      <td>70</td>\n",
              "      <td>97</td>\n",
              "      <td>1019</td>\n",
              "      <td>6</td>\n",
              "      <td>302</td>\n",
              "      <td>71</td>\n",
              "      <td>226</td>\n",
              "      <td>7</td>\n",
              "      <td>4</td>\n",
              "      <td>MCO</td>\n",
              "      <td>2016-01-01</td>\n",
              "      <td>3.4</td>\n",
              "      <td>71</td>\n",
              "      <td>500</td>\n",
              "      <td>2016</td>\n",
              "      <td>1</td>\n",
              "      <td>1</td>\n",
              "      <td>1</td>\n",
              "      <td>2016-01-01</td>\n",
              "      <td>13204</td>\n",
              "      <td>MCO</td>\n",
              "      <td>13303</td>\n",
              "      <td>MIA</td>\n",
              "      <td>500</td>\n",
              "      <td>503</td>\n",
              "      <td>3.0</td>\n",
              "      <td>0.0</td>\n",
              "      <td>603</td>\n",
              "      <td>559</td>\n",
              "      <td>0.0</td>\n",
              "      <td>0.0</td>\n",
              "      <td>600</td>\n",
              "      <td>500</td>\n",
              "    </tr>\n",
              "    <tr>\n",
              "      <th>2</th>\n",
              "      <td>87</td>\n",
              "      <td>70</td>\n",
              "      <td>97</td>\n",
              "      <td>1019</td>\n",
              "      <td>6</td>\n",
              "      <td>302</td>\n",
              "      <td>71</td>\n",
              "      <td>226</td>\n",
              "      <td>7</td>\n",
              "      <td>4</td>\n",
              "      <td>MCO</td>\n",
              "      <td>2016-01-01</td>\n",
              "      <td>3.4</td>\n",
              "      <td>71</td>\n",
              "      <td>500</td>\n",
              "      <td>2016</td>\n",
              "      <td>1</td>\n",
              "      <td>1</td>\n",
              "      <td>1</td>\n",
              "      <td>2016-01-01</td>\n",
              "      <td>13204</td>\n",
              "      <td>MCO</td>\n",
              "      <td>11618</td>\n",
              "      <td>EWR</td>\n",
              "      <td>530</td>\n",
              "      <td>527</td>\n",
              "      <td>0.0</td>\n",
              "      <td>0.0</td>\n",
              "      <td>759</td>\n",
              "      <td>741</td>\n",
              "      <td>0.0</td>\n",
              "      <td>0.0</td>\n",
              "      <td>800</td>\n",
              "      <td>500</td>\n",
              "    </tr>\n",
              "    <tr>\n",
              "      <th>3</th>\n",
              "      <td>84</td>\n",
              "      <td>71</td>\n",
              "      <td>97</td>\n",
              "      <td>1019</td>\n",
              "      <td>5</td>\n",
              "      <td>302</td>\n",
              "      <td>71</td>\n",
              "      <td>240</td>\n",
              "      <td>6</td>\n",
              "      <td>3</td>\n",
              "      <td>MCO</td>\n",
              "      <td>2016-01-01</td>\n",
              "      <td>2.1</td>\n",
              "      <td>72</td>\n",
              "      <td>600</td>\n",
              "      <td>2016</td>\n",
              "      <td>1</td>\n",
              "      <td>1</td>\n",
              "      <td>1</td>\n",
              "      <td>2016-01-01</td>\n",
              "      <td>13204</td>\n",
              "      <td>MCO</td>\n",
              "      <td>11298</td>\n",
              "      <td>DFW</td>\n",
              "      <td>600</td>\n",
              "      <td>612</td>\n",
              "      <td>12.0</td>\n",
              "      <td>0.0</td>\n",
              "      <td>801</td>\n",
              "      <td>800</td>\n",
              "      <td>0.0</td>\n",
              "      <td>0.0</td>\n",
              "      <td>800</td>\n",
              "      <td>600</td>\n",
              "    </tr>\n",
              "    <tr>\n",
              "      <th>4</th>\n",
              "      <td>84</td>\n",
              "      <td>71</td>\n",
              "      <td>97</td>\n",
              "      <td>1019</td>\n",
              "      <td>5</td>\n",
              "      <td>302</td>\n",
              "      <td>71</td>\n",
              "      <td>240</td>\n",
              "      <td>6</td>\n",
              "      <td>3</td>\n",
              "      <td>MCO</td>\n",
              "      <td>2016-01-01</td>\n",
              "      <td>2.1</td>\n",
              "      <td>72</td>\n",
              "      <td>600</td>\n",
              "      <td>2016</td>\n",
              "      <td>1</td>\n",
              "      <td>1</td>\n",
              "      <td>1</td>\n",
              "      <td>2016-01-01</td>\n",
              "      <td>13204</td>\n",
              "      <td>MCO</td>\n",
              "      <td>12478</td>\n",
              "      <td>JFK</td>\n",
              "      <td>604</td>\n",
              "      <td>625</td>\n",
              "      <td>21.0</td>\n",
              "      <td>1.0</td>\n",
              "      <td>830</td>\n",
              "      <td>850</td>\n",
              "      <td>20.0</td>\n",
              "      <td>1.0</td>\n",
              "      <td>900</td>\n",
              "      <td>600</td>\n",
              "    </tr>\n",
              "  </tbody>\n",
              "</table>\n",
              "</div>"
            ],
            "text/plain": [
              "   Cloudcover  DewPointF  ...  nearest_hoursArr  nearest_hoursDep\n",
              "0          57         70  ...                 0                 0\n",
              "1          87         70  ...               600               500\n",
              "2          87         70  ...               800               500\n",
              "3          84         71  ...               800               600\n",
              "4          84         71  ...               900               600\n",
              "\n",
              "[5 rows x 34 columns]"
            ]
          },
          "metadata": {
            "tags": []
          },
          "execution_count": 5
        }
      ]
    },
    {
      "cell_type": "code",
      "metadata": {
        "id": "y-IaZ6c_xOk4",
        "colab_type": "code",
        "colab": {}
      },
      "source": [
        "pf1=df.drop(['nearest_hoursArr', 'nearest_hoursDep'], axis=1)"
      ],
      "execution_count": 0,
      "outputs": []
    },
    {
      "cell_type": "code",
      "metadata": {
        "id": "txHM39lKxOnw",
        "colab_type": "code",
        "colab": {}
      },
      "source": [
        "pf1.head()"
      ],
      "execution_count": 0,
      "outputs": []
    },
    {
      "cell_type": "code",
      "metadata": {
        "id": "stzNOS1TwzG5",
        "colab_type": "code",
        "outputId": "5988dbc3-8a8b-49e9-fb9b-12dd5e53168c",
        "colab": {
          "base_uri": "https://localhost:8080/",
          "height": 35
        }
      },
      "source": [
        "pf1.shape"
      ],
      "execution_count": 9,
      "outputs": [
        {
          "output_type": "execute_result",
          "data": {
            "text/plain": [
              "(1438104, 32)"
            ]
          },
          "metadata": {
            "tags": []
          },
          "execution_count": 9
        }
      ]
    },
    {
      "cell_type": "code",
      "metadata": {
        "id": "Vhff2XcxymX3",
        "colab_type": "code",
        "colab": {}
      },
      "source": [
        "need=pf1.drop([\"airport\",\"date\",\"DepTime\",\"ArrTime\",\"DepDelayMinutes\",\"ArrDelayMinutes\",\"ArrDel15\",\"DepDel15\",\"FlightDate\"],axis=1)"
      ],
      "execution_count": 0,
      "outputs": []
    },
    {
      "cell_type": "code",
      "metadata": {
        "id": "UO_eAKHD4y0l",
        "colab_type": "code",
        "colab": {}
      },
      "source": [
        "k = LabelEncoder()\n",
        "c = k.fit_transform(need[\"Dest\"])\n",
        "need[\"Dest\"] = c\n",
        "c = k.fit_transform(need[\"Origin\"])\n",
        "need[\"Origin\"] = c\n",
        "c = k.fit_transform(need[\"WeatherCode\"])\n",
        "need[\"WeatherCode\"] = c\n",
        "f=np.asarray(need)"
      ],
      "execution_count": 0,
      "outputs": []
    },
    {
      "cell_type": "code",
      "metadata": {
        "id": "mFpWvBj6x6lC",
        "colab_type": "code",
        "outputId": "e47357fb-3bf4-4d17-815c-5929ec411d91",
        "colab": {
          "base_uri": "https://localhost:8080/",
          "height": 35
        }
      },
      "source": [
        "pf1['DepDel15']=pf1.DepDel15.astype(int)\n",
        "l=np.asarray(pf1[\"DepDel15\"])\n",
        "l"
      ],
      "execution_count": 13,
      "outputs": [
        {
          "output_type": "execute_result",
          "data": {
            "text/plain": [
              "array([0, 0, 0, ..., 1, 0, 0])"
            ]
          },
          "metadata": {
            "tags": []
          },
          "execution_count": 13
        }
      ]
    },
    {
      "cell_type": "code",
      "metadata": {
        "id": "lj6MOVvwVYCN",
        "colab_type": "code",
        "outputId": "315fb814-6bcc-4a56-cf21-af187a5f4118",
        "colab": {
          "base_uri": "https://localhost:8080/",
          "height": 255
        }
      },
      "source": [
        "import matplotlib.pyplot as plt\n",
        "\n",
        "# Data to plot\n",
        "labels = 'delayed','not delayed'\n",
        "sizes = [293194,1144910]\n",
        "colors = ['gold', 'yellowgreen']\n",
        "explode = (0.1, 0)  # explode 1st slice\n",
        "\n",
        "# Plot\n",
        "plt.pie(sizes, explode=explode, labels=labels, colors=colors,\n",
        "autopct='%1.1f%%', shadow=True, startangle=140)\n",
        "\n",
        "plt.axis('equal')\n",
        "plt.show()"
      ],
      "execution_count": 14,
      "outputs": [
        {
          "output_type": "display_data",
          "data": {
            "image/png": "[encoded data removed]",
            "text/plain": [
              "<Figure size 432x288 with 1 Axes>"
            ]
          },
          "metadata": {
            "tags": []
          }
        }
      ]
    },
    {
      "cell_type": "code",
      "metadata": {
        "id": "MFFaA4VE6cps",
        "colab_type": "code",
        "colab": {}
      },
      "source": [
        "need.to_csv(\"/content/gdrive/My Drive/4.csv\")"
      ],
      "execution_count": 0,
      "outputs": []
    },
    {
      "cell_type": "code",
      "metadata": {
        "id": "7Fd3ODR385nW",
        "colab_type": "code",
        "colab": {}
      },
      "source": [
        "f_train, f_test, l_train, l_test = train_test_split(f, l, test_size=0.20, random_state=42)"
      ],
      "execution_count": 0,
      "outputs": []
    },
    {
      "cell_type": "markdown",
      "metadata": {
        "id": "REiK6VhAJ3U_",
        "colab_type": "text"
      },
      "source": [
        "**EXTRA TREES**"
      ]
    },
    {
      "cell_type": "code",
      "metadata": {
        "id": "bNgm8RKUKsJc",
        "colab_type": "code",
        "outputId": "b83b80eb-200a-4e34-9aeb-746053b0d563",
        "colab": {
          "base_uri": "https://localhost:8080/",
          "height": 201
        }
      },
      "source": [
        "#before sampling\n",
        "et = ExtraTreesClassifier()\n",
        "et.fit(f_train,l_train)\n"
      ],
      "execution_count": 17,
      "outputs": [
        {
          "output_type": "stream",
          "text": [
            "/usr/local/lib/python3.6/dist-packages/sklearn/ensemble/forest.py:245: FutureWarning: The default value of n_estimators will change from 10 in version 0.20 to 100 in 0.22.\n",
            "  \"10 in version 0.20 to 100 in 0.22.\", FutureWarning)\n"
          ],
          "name": "stderr"
        },
        {
          "output_type": "execute_result",
          "data": {
            "text/plain": [
              "ExtraTreesClassifier(bootstrap=False, class_weight=None, criterion='gini',\n",
              "                     max_depth=None, max_features='auto', max_leaf_nodes=None,\n",
              "                     min_impurity_decrease=0.0, min_impurity_split=None,\n",
              "                     min_samples_leaf=1, min_samples_split=2,\n",
              "                     min_weight_fraction_leaf=0.0, n_estimators=10, n_jobs=None,\n",
              "                     oob_score=False, random_state=None, verbose=0,\n",
              "                     warm_start=False)"
            ]
          },
          "metadata": {
            "tags": []
          },
          "execution_count": 17
        }
      ]
    },
    {
      "cell_type": "code",
      "metadata": {
        "id": "dCZJfFgSMhAa",
        "colab_type": "code",
        "outputId": "ba1466f5-4fb5-451c-dde3-43465ed2cc3d",
        "colab": {
          "base_uri": "https://localhost:8080/",
          "height": 72
        }
      },
      "source": [
        "pred = et.predict(f_test)\n",
        "precision = precision_score(l_test, pred, average=\"weighted\")\n",
        "recall = recall_score(l_test, pred, average=\"weighted\")\n",
        "f1 = f1_score(l_test, pred, average=\"weighted\")\n",
        "print (\"Precision:\", precision)\n",
        "print (\"Recall:\", recall)\n",
        "print (\"F1 Score:\", f1)"
      ],
      "execution_count": 18,
      "outputs": [
        {
          "output_type": "stream",
          "text": [
            "Precision: 0.8382571472721602\n",
            "Recall: 0.8502647581365755\n",
            "F1 Score: 0.8367722775480795\n"
          ],
          "name": "stdout"
        }
      ]
    },
    {
      "cell_type": "code",
      "metadata": {
        "id": "51QiB7EMM51I",
        "colab_type": "code",
        "outputId": "df7a16f5-aedf-4b84-aeab-b9f304a74485",
        "colab": {
          "base_uri": "https://localhost:8080/",
          "height": 181
        }
      },
      "source": [
        "print(classification_report(l_test, pred))"
      ],
      "execution_count": 19,
      "outputs": [
        {
          "output_type": "stream",
          "text": [
            "              precision    recall  f1-score   support\n",
            "\n",
            "           0       0.87      0.95      0.91    228878\n",
            "           1       0.71      0.45      0.55     58743\n",
            "\n",
            "    accuracy                           0.85    287621\n",
            "   macro avg       0.79      0.70      0.73    287621\n",
            "weighted avg       0.84      0.85      0.84    287621\n",
            "\n"
          ],
          "name": "stdout"
        }
      ]
    },
    {
      "cell_type": "code",
      "metadata": {
        "id": "FWhcs0K2NYUh",
        "colab_type": "code",
        "outputId": "c78016f6-97e2-4080-88a4-20151c174f52",
        "colab": {
          "base_uri": "https://localhost:8080/",
          "height": 292
        }
      },
      "source": [
        "#oversampled output\n",
        "sos = SMOTE(random_state=42)\n",
        "x, y = sos.fit_resample(f, l)\n",
        "f_train, f_test, l_train, l_test = train_test_split(x, y, test_size=0.20, random_state=42)\n",
        "rg =ExtraTreesClassifier()\n",
        "rg.fit(f_train,l_train)\n",
        "pred1 = rg.predict(f_test)\n",
        "precision1 = precision_score(l_test, pred1, average=\"weighted\")\n",
        "recall1 = recall_score(l_test, pred1, average=\"weighted\")\n",
        "f1 = f1_score(l_test, pred1, average=\"weighted\")\n",
        "print (\"Precision:\", precision1)\n",
        "print (\"Recall:\", recall1)\n",
        "print (\"F1 Score:\", f1)\n",
        "print(classification_report(l_test, pred1))"
      ],
      "execution_count": 20,
      "outputs": [
        {
          "output_type": "stream",
          "text": [
            "/usr/local/lib/python3.6/dist-packages/sklearn/ensemble/forest.py:245: FutureWarning: The default value of n_estimators will change from 10 in version 0.20 to 100 in 0.22.\n",
            "  \"10 in version 0.20 to 100 in 0.22.\", FutureWarning)\n"
          ],
          "name": "stderr"
        },
        {
          "output_type": "stream",
          "text": [
            "Precision: 0.9052279714518279\n",
            "Recall: 0.9033482981195028\n",
            "F1 Score: 0.9032436788786299\n",
            "              precision    recall  f1-score   support\n",
            "\n",
            "           0       0.88      0.94      0.91    228508\n",
            "           1       0.93      0.87      0.90    229456\n",
            "\n",
            "    accuracy                           0.90    457964\n",
            "   macro avg       0.91      0.90      0.90    457964\n",
            "weighted avg       0.91      0.90      0.90    457964\n",
            "\n"
          ],
          "name": "stdout"
        }
      ]
    },
    {
      "cell_type": "code",
      "metadata": {
        "id": "_l-8802v1XcA",
        "colab_type": "code",
        "outputId": "afea6e22-27a5-4c56-df58-59e080ae0e0c",
        "colab": {
          "base_uri": "https://localhost:8080/",
          "height": 292
        }
      },
      "source": [
        "\n",
        "# Random Undersampling\n",
        "ru = RandomUnderSampler(random_state=42)\n",
        "x, y = ru.fit_resample(f, l)\n",
        "f_train, f_test, l_train, l_test = train_test_split(x, y, test_size=0.20, random_state=42)\n",
        "r =ExtraTreesClassifier()\n",
        "r.fit(f_train,l_train)\n",
        "pred2 = r.predict(f_test)\n",
        "precision2 = precision_score(l_test, pred2, average=\"weighted\")\n",
        "recall2 = recall_score(l_test, pred2, average=\"weighted\")\n",
        "f1 = f1_score(l_test, pred2, average=\"weighted\")\n",
        "print (\"Precision:\", precision2)\n",
        "print (\"Recall:\", recall2)\n",
        "print (\"F1 Score:\", f1)\n",
        "print(classification_report(l_test, pred2))"
      ],
      "execution_count": 21,
      "outputs": [
        {
          "output_type": "stream",
          "text": [
            "/usr/local/lib/python3.6/dist-packages/sklearn/ensemble/forest.py:245: FutureWarning: The default value of n_estimators will change from 10 in version 0.20 to 100 in 0.22.\n",
            "  \"10 in version 0.20 to 100 in 0.22.\", FutureWarning)\n"
          ],
          "name": "stderr"
        },
        {
          "output_type": "stream",
          "text": [
            "Precision: 0.7365131994736223\n",
            "Recall: 0.7333771039751701\n",
            "F1 Score: 0.7325180131310092\n",
            "              precision    recall  f1-score   support\n",
            "\n",
            "           0       0.71      0.79      0.75     58571\n",
            "           1       0.76      0.68      0.72     58707\n",
            "\n",
            "    accuracy                           0.73    117278\n",
            "   macro avg       0.74      0.73      0.73    117278\n",
            "weighted avg       0.74      0.73      0.73    117278\n",
            "\n"
          ],
          "name": "stdout"
        }
      ]
    },
    {
      "cell_type": "markdown",
      "metadata": {
        "id": "n4zyuBjQJgLA",
        "colab_type": "text"
      },
      "source": [
        "**RANDOM FOREST**"
      ]
    },
    {
      "cell_type": "code",
      "metadata": {
        "id": "dOFgV7AT9b7B",
        "colab_type": "code",
        "outputId": "cb325105-ede9-4fa1-991b-944dbaa5cec5",
        "colab": {
          "base_uri": "https://localhost:8080/",
          "height": 201
        }
      },
      "source": [
        "#before sampling\n",
        "ran = RandomForestClassifier()\n",
        "ran.fit(f_train,l_train)\n"
      ],
      "execution_count": 27,
      "outputs": [
        {
          "output_type": "stream",
          "text": [
            "/usr/local/lib/python3.6/dist-packages/sklearn/ensemble/forest.py:245: FutureWarning: The default value of n_estimators will change from 10 in version 0.20 to 100 in 0.22.\n",
            "  \"10 in version 0.20 to 100 in 0.22.\", FutureWarning)\n"
          ],
          "name": "stderr"
        },
        {
          "output_type": "execute_result",
          "data": {
            "text/plain": [
              "RandomForestClassifier(bootstrap=True, class_weight=None, criterion='gini',\n",
              "                       max_depth=None, max_features='auto', max_leaf_nodes=None,\n",
              "                       min_impurity_decrease=0.0, min_impurity_split=None,\n",
              "                       min_samples_leaf=1, min_samples_split=2,\n",
              "                       min_weight_fraction_leaf=0.0, n_estimators=10,\n",
              "                       n_jobs=None, oob_score=False, random_state=None,\n",
              "                       verbose=0, warm_start=False)"
            ]
          },
          "metadata": {
            "tags": []
          },
          "execution_count": 27
        }
      ]
    },
    {
      "cell_type": "code",
      "metadata": {
        "id": "0b4C4gYb90kF",
        "colab_type": "code",
        "outputId": "ccb53b3e-2d59-4fbf-aa11-4e765b6d8d35",
        "colab": {
          "base_uri": "https://localhost:8080/",
          "height": 235
        }
      },
      "source": [
        "pred3 = ran.predict(f_test)\n",
        "precision3 = precision_score(l_test, pred3, average=\"weighted\")\n",
        "recall3 = recall_score(l_test, pred3, average=\"weighted\")\n",
        "f1 = f1_score(l_test, pred3, average=\"weighted\")\n",
        "print (\"Precision:\", precision3)\n",
        "print (\"Recall:\", recall3)\n",
        "print (\"F1 Score:\", f1)\n",
        "print(classification_report(l_test, pred3))"
      ],
      "execution_count": 28,
      "outputs": [
        {
          "output_type": "stream",
          "text": [
            "Precision: 0.8034782658048822\n",
            "Recall: 0.8003802929790753\n",
            "F1 Score: 0.7998850201906113\n",
            "              precision    recall  f1-score   support\n",
            "\n",
            "           0       0.77      0.85      0.81     58571\n",
            "           1       0.83      0.75      0.79     58707\n",
            "\n",
            "    accuracy                           0.80    117278\n",
            "   macro avg       0.80      0.80      0.80    117278\n",
            "weighted avg       0.80      0.80      0.80    117278\n",
            "\n"
          ],
          "name": "stdout"
        }
      ]
    },
    {
      "cell_type": "code",
      "metadata": {
        "id": "6lfk_-QPNBSp",
        "colab_type": "code",
        "outputId": "f4c02693-ed85-43da-bea9-506ec1a02323",
        "colab": {
          "base_uri": "https://localhost:8080/",
          "height": 292
        }
      },
      "source": [
        "#oversampled output\n",
        "sos = SMOTE(random_state=42)\n",
        "x, y = sos.fit_resample(f, l)\n",
        "f_train, f_test, l_train, l_test = train_test_split(x, y, test_size=0.20, random_state=42)\n",
        "r1 = RandomForestClassifier()\n",
        "r1.fit(f_train,l_train)\n",
        "pred4 = r1.predict(f_test)\n",
        "precision4 = precision_score(l_test, pred4, average=\"weighted\")\n",
        "recall4 = recall_score(l_test, pred4, average=\"weighted\")\n",
        "f1 = f1_score(l_test, pred4, average=\"weighted\")\n",
        "print (\"Precision:\", precision4)\n",
        "print (\"Recall:\", recall4)\n",
        "print (\"F1 Score:\", f1)\n",
        "print(classification_report(l_test, pred4))"
      ],
      "execution_count": 29,
      "outputs": [
        {
          "output_type": "stream",
          "text": [
            "/usr/local/lib/python3.6/dist-packages/sklearn/ensemble/forest.py:245: FutureWarning: The default value of n_estimators will change from 10 in version 0.20 to 100 in 0.22.\n",
            "  \"10 in version 0.20 to 100 in 0.22.\", FutureWarning)\n"
          ],
          "name": "stderr"
        },
        {
          "output_type": "stream",
          "text": [
            "Precision: 0.9135768999850408\n",
            "Recall: 0.9103947035138134\n",
            "F1 Score: 0.910230989224468\n",
            "              precision    recall  f1-score   support\n",
            "\n",
            "           0       0.88      0.95      0.91    228508\n",
            "           1       0.95      0.87      0.91    229456\n",
            "\n",
            "    accuracy                           0.91    457964\n",
            "   macro avg       0.91      0.91      0.91    457964\n",
            "weighted avg       0.91      0.91      0.91    457964\n",
            "\n"
          ],
          "name": "stdout"
        }
      ]
    },
    {
      "cell_type": "code",
      "metadata": {
        "id": "n42KNbT8wn62",
        "colab_type": "code",
        "outputId": "b2e12371-a573-46d0-a8ce-fb94a6e55e5f",
        "colab": {
          "base_uri": "https://localhost:8080/",
          "height": 292
        }
      },
      "source": [
        "\n",
        "# Random Undersampling\n",
        "ru = RandomUnderSampler(random_state=42)\n",
        "x, y = ru.fit_resample(f, l)\n",
        "f_train, f_test, l_train, l_test = train_test_split(x, y, test_size=0.20, random_state=42)\n",
        "r2 =RandomForestClassifier()\n",
        "r2.fit(f_train,l_train)\n",
        "pred5 = r2.predict(f_test)\n",
        "precision5 = precision_score(l_test, pred5, average=\"weighted\")\n",
        "recall5 = recall_score(l_test, pred5, average=\"weighted\")\n",
        "f1 = f1_score(l_test, pred5, average=\"weighted\")\n",
        "print (\"Precision:\", precision5)\n",
        "print (\"Recall:\", recall5)\n",
        "print (\"F1 Score:\", f1)\n",
        "print(classification_report(l_test, pred5))"
      ],
      "execution_count": 30,
      "outputs": [
        {
          "output_type": "stream",
          "text": [
            "/usr/local/lib/python3.6/dist-packages/sklearn/ensemble/forest.py:245: FutureWarning: The default value of n_estimators will change from 10 in version 0.20 to 100 in 0.22.\n",
            "  \"10 in version 0.20 to 100 in 0.22.\", FutureWarning)\n"
          ],
          "name": "stderr"
        },
        {
          "output_type": "stream",
          "text": [
            "Precision: 0.7949846637622632\n",
            "Recall: 0.7921775610088849\n",
            "F1 Score: 0.7916977877757136\n",
            "              precision    recall  f1-score   support\n",
            "\n",
            "           0       0.77      0.84      0.80     58571\n",
            "           1       0.82      0.74      0.78     58707\n",
            "\n",
            "    accuracy                           0.79    117278\n",
            "   macro avg       0.79      0.79      0.79    117278\n",
            "weighted avg       0.79      0.79      0.79    117278\n",
            "\n"
          ],
          "name": "stdout"
        }
      ]
    },
    {
      "cell_type": "markdown",
      "metadata": {
        "id": "IQyqICuh4Rug",
        "colab_type": "text"
      },
      "source": [
        "**LOGISTIC REGRESSION**"
      ]
    },
    {
      "cell_type": "code",
      "metadata": {
        "id": "JAXLCGcg4FPm",
        "colab_type": "code",
        "outputId": "c4c3d4cc-e132-4295-ff3d-9551ea2e9cf0",
        "colab": {
          "base_uri": "https://localhost:8080/",
          "height": 165
        }
      },
      "source": [
        "#before sampling\n",
        "lg = LogisticRegression()\n",
        "lg.fit(f_train,l_train)\n"
      ],
      "execution_count": 0,
      "outputs": [
        {
          "output_type": "stream",
          "text": [
            "/usr/local/lib/python3.6/dist-packages/sklearn/linear_model/logistic.py:432: FutureWarning: Default solver will be changed to 'lbfgs' in 0.22. Specify a solver to silence this warning.\n",
            "  FutureWarning)\n"
          ],
          "name": "stderr"
        },
        {
          "output_type": "execute_result",
          "data": {
            "text/plain": [
              "LogisticRegression(C=1.0, class_weight=None, dual=False, fit_intercept=True,\n",
              "                   intercept_scaling=1, l1_ratio=None, max_iter=100,\n",
              "                   multi_class='warn', n_jobs=None, penalty='l2',\n",
              "                   random_state=None, solver='warn', tol=0.0001, verbose=0,\n",
              "                   warm_start=False)"
            ]
          },
          "metadata": {
            "tags": []
          },
          "execution_count": 36
        }
      ]
    },
    {
      "cell_type": "code",
      "metadata": {
        "id": "1SfMUDnJ4ytt",
        "colab_type": "code",
        "outputId": "fa99c021-5cc6-4302-d733-346359b79948",
        "colab": {
          "base_uri": "https://localhost:8080/",
          "height": 235
        }
      },
      "source": [
        "pred = lg.predict(f_test)\n",
        "precision = precision_score(l_test, pred, average=\"weighted\")\n",
        "recall = recall_score(l_test, pred, average=\"weighted\")\n",
        "f1 = f1_score(l_test, pred, average=\"weighted\")\n",
        "print (\"Precision:\", precision)\n",
        "print (\"Recall:\", recall)\n",
        "print (\"F1 Score:\", f1)\n",
        "print(classification_report(l_test, pred))"
      ],
      "execution_count": 0,
      "outputs": [
        {
          "output_type": "stream",
          "text": [
            "Precision: 0.6153303766290811\n",
            "Recall: 0.6150046728563817\n",
            "F1 Score: 0.6146723066459795\n",
            "              precision    recall  f1-score   support\n",
            "\n",
            "           0       0.62      0.59      0.60    228508\n",
            "           1       0.61      0.64      0.63    229456\n",
            "\n",
            "    accuracy                           0.62    457964\n",
            "   macro avg       0.62      0.61      0.61    457964\n",
            "weighted avg       0.62      0.62      0.61    457964\n",
            "\n"
          ],
          "name": "stdout"
        }
      ]
    },
    {
      "cell_type": "code",
      "metadata": {
        "id": "MFpprCUv5IFC",
        "colab_type": "code",
        "outputId": "bd158123-f1ad-4161-8c4b-edee9fd21068",
        "colab": {
          "base_uri": "https://localhost:8080/",
          "height": 292
        }
      },
      "source": [
        "# undersampled output\n",
        "rus = RandomUnderSampler(random_state=42)\n",
        "x, y = rus.fit_resample(f, l)\n",
        "f_train, f_test, l_train, l_test = train_test_split(x, y, test_size=0.20, random_state=42)\n",
        "lg = LogisticRegression()\n",
        "lg.fit(f_train,l_train)\n",
        "pred = rg.predict(f_test)\n",
        "precision = precision_score(l_test, pred, average=\"weighted\")\n",
        "recall = recall_score(l_test, pred, average=\"weighted\")\n",
        "f1 = f1_score(l_test, pred, average=\"weighted\")\n",
        "print (\"Precision:\", precision)\n",
        "print (\"Recall:\", recall)\n",
        "print (\"F1 Score:\", f1)\n",
        "print(classification_report(l_test, pred))"
      ],
      "execution_count": 0,
      "outputs": [
        {
          "output_type": "stream",
          "text": [
            "/usr/local/lib/python3.6/dist-packages/sklearn/linear_model/logistic.py:432: FutureWarning: Default solver will be changed to 'lbfgs' in 0.22. Specify a solver to silence this warning.\n",
            "  FutureWarning)\n"
          ],
          "name": "stderr"
        },
        {
          "output_type": "stream",
          "text": [
            "Precision: 0.9331022704423136\n",
            "Recall: 0.9261157250294173\n",
            "F1 Score: 0.925822436409822\n",
            "              precision    recall  f1-score   support\n",
            "\n",
            "           0       0.88      0.99      0.93     58571\n",
            "           1       0.99      0.86      0.92     58707\n",
            "\n",
            "    accuracy                           0.93    117278\n",
            "   macro avg       0.93      0.93      0.93    117278\n",
            "weighted avg       0.93      0.93      0.93    117278\n",
            "\n"
          ],
          "name": "stdout"
        }
      ]
    },
    {
      "cell_type": "code",
      "metadata": {
        "id": "YQMvmoss5mgK",
        "colab_type": "code",
        "outputId": "0ade8dcd-b361-489e-f830-0eb1565d146b",
        "colab": {
          "base_uri": "https://localhost:8080/",
          "height": 292
        }
      },
      "source": [
        "#oversampled output\n",
        "sos = SMOTE(random_state=42)\n",
        "x, y = sos.fit_resample(f, l)\n",
        "f_train, f_test, l_train, l_test = train_test_split(x, y, test_size=0.20, random_state=42)\n",
        "lg = LogisticRegression()\n",
        "lg.fit(f_train,l_train)\n",
        "pred = rg.predict(f_test)\n",
        "precision = precision_score(l_test, pred, average=\"weighted\")\n",
        "recall = recall_score(l_test, pred, average=\"weighted\")\n",
        "f1 = f1_score(l_test, pred, average=\"weighted\")\n",
        "print (\"Precision:\", precision)\n",
        "print (\"Recall:\", recall)\n",
        "print (\"F1 Score:\", f1)\n",
        "print(classification_report(l_test, pred))"
      ],
      "execution_count": 0,
      "outputs": [
        {
          "output_type": "stream",
          "text": [
            "/usr/local/lib/python3.6/dist-packages/sklearn/linear_model/logistic.py:432: FutureWarning: Default solver will be changed to 'lbfgs' in 0.22. Specify a solver to silence this warning.\n",
            "  FutureWarning)\n"
          ],
          "name": "stderr"
        },
        {
          "output_type": "stream",
          "text": [
            "Precision: 0.9123685560069666\n",
            "Recall: 0.9091675328191735\n",
            "F1 Score: 0.9090000765218389\n",
            "              precision    recall  f1-score   support\n",
            "\n",
            "           0       0.88      0.95      0.91    228508\n",
            "           1       0.95      0.87      0.91    229456\n",
            "\n",
            "    accuracy                           0.91    457964\n",
            "   macro avg       0.91      0.91      0.91    457964\n",
            "weighted avg       0.91      0.91      0.91    457964\n",
            "\n"
          ],
          "name": "stdout"
        }
      ]
    },
    {
      "cell_type": "markdown",
      "metadata": {
        "id": "HJdqEtOI5_Dc",
        "colab_type": "text"
      },
      "source": [
        "**DECISION TREE**"
      ]
    },
    {
      "cell_type": "code",
      "metadata": {
        "id": "pBb344bD6X7C",
        "colab_type": "code",
        "outputId": "7b6e1c66-592a-43ea-c27f-9fd77b47ea03",
        "colab": {
          "base_uri": "https://localhost:8080/",
          "height": 126
        }
      },
      "source": [
        "#before sampling\n",
        "dg = tree.DecisionTreeClassifier()\n",
        "dg.fit(f_train,l_train)\n"
      ],
      "execution_count": 31,
      "outputs": [
        {
          "output_type": "execute_result",
          "data": {
            "text/plain": [
              "DecisionTreeClassifier(class_weight=None, criterion='gini', max_depth=None,\n",
              "                       max_features=None, max_leaf_nodes=None,\n",
              "                       min_impurity_decrease=0.0, min_impurity_split=None,\n",
              "                       min_samples_leaf=1, min_samples_split=2,\n",
              "                       min_weight_fraction_leaf=0.0, presort=False,\n",
              "                       random_state=None, splitter='best')"
            ]
          },
          "metadata": {
            "tags": []
          },
          "execution_count": 31
        }
      ]
    },
    {
      "cell_type": "code",
      "metadata": {
        "id": "6v0jyL876pXi",
        "colab_type": "code",
        "outputId": "4a868185-83d7-4b01-b1c6-e5124130b412",
        "colab": {
          "base_uri": "https://localhost:8080/",
          "height": 235
        }
      },
      "source": [
        "pred6 = dg.predict(f_test)\n",
        "precision6 = precision_score(l_test, pred6, average=\"weighted\")\n",
        "recall6 = recall_score(l_test, pred6, average=\"weighted\")\n",
        "f1 = f1_score(l_test, pred6, average=\"weighted\")\n",
        "print (\"Precision:\", precision6)\n",
        "print (\"Recall:\", recall6)\n",
        "print (\"F1 Score:\", f1)\n",
        "print(classification_report(l_test, pred6))"
      ],
      "execution_count": 33,
      "outputs": [
        {
          "output_type": "stream",
          "text": [
            "Precision: 0.7965350212314835\n",
            "Recall: 0.7965347294462729\n",
            "F1 Score: 0.7965344470166997\n",
            "              precision    recall  f1-score   support\n",
            "\n",
            "           0       0.80      0.80      0.80     58571\n",
            "           1       0.80      0.80      0.80     58707\n",
            "\n",
            "    accuracy                           0.80    117278\n",
            "   macro avg       0.80      0.80      0.80    117278\n",
            "weighted avg       0.80      0.80      0.80    117278\n",
            "\n"
          ],
          "name": "stdout"
        }
      ]
    },
    {
      "cell_type": "code",
      "metadata": {
        "id": "yWOMxf4l65o0",
        "colab_type": "code",
        "outputId": "ee099ff7-fbfa-4b73-ee62-d9a97e77d9db",
        "colab": {
          "base_uri": "https://localhost:8080/",
          "height": 235
        }
      },
      "source": [
        "# undersampled output\n",
        "rus = RandomUnderSampler(random_state=42)\n",
        "x, y = rus.fit_resample(f, l)\n",
        "f_train, f_test, l_train, l_test = train_test_split(x, y, test_size=0.20, random_state=42)\n",
        "dg1=tree.DecisionTreeClassifier()\n",
        "dg1.fit(f_train,l_train)\n",
        "pred7 = dg1.predict(f_test)\n",
        "precision7 = precision_score(l_test, pred7, average=\"weighted\")\n",
        "recall7 = recall_score(l_test, pred7, average=\"weighted\")\n",
        "f1 = f1_score(l_test, pred7, average=\"weighted\")\n",
        "print (\"Precision:\", precision7)\n",
        "print (\"Recall:\", recall7)\n",
        "print (\"F1 Score:\", f1)\n",
        "print(classification_report(l_test, pred7))"
      ],
      "execution_count": 35,
      "outputs": [
        {
          "output_type": "stream",
          "text": [
            "Precision: 0.7958877391991511\n",
            "Recall: 0.7958866965671311\n",
            "F1 Score: 0.7958861475974522\n",
            "              precision    recall  f1-score   support\n",
            "\n",
            "           0       0.80      0.79      0.80     58571\n",
            "           1       0.80      0.80      0.80     58707\n",
            "\n",
            "    accuracy                           0.80    117278\n",
            "   macro avg       0.80      0.80      0.80    117278\n",
            "weighted avg       0.80      0.80      0.80    117278\n",
            "\n"
          ],
          "name": "stdout"
        }
      ]
    },
    {
      "cell_type": "code",
      "metadata": {
        "id": "Z5mZjeS77RbE",
        "colab_type": "code",
        "outputId": "ad1a3343-75d7-4fbe-b056-740a1624cf08",
        "colab": {
          "base_uri": "https://localhost:8080/",
          "height": 235
        }
      },
      "source": [
        "#oversampled output\n",
        "sos = SMOTE(random_state=42)\n",
        "x, y = sos.fit_resample(f, l)\n",
        "f_train, f_test, l_train, l_test = train_test_split(x, y, test_size=0.20, random_state=42)\n",
        "dg2=tree.DecisionTreeClassifier()\n",
        "dg2.fit(f_train,l_train)\n",
        "pred8 = dg2.predict(f_test)\n",
        "precision8 = precision_score(l_test, pred8, average=\"weighted\")\n",
        "recall8 = recall_score(l_test, pred8, average=\"weighted\")\n",
        "f1 = f1_score(l_test, pred8, average=\"weighted\")\n",
        "print (\"Precision:\", precision8)\n",
        "print (\"Recall:\", recall8)\n",
        "print (\"F1 Score:\", f1)\n",
        "print(classification_report(l_test, pred8))"
      ],
      "execution_count": 37,
      "outputs": [
        {
          "output_type": "stream",
          "text": [
            "Precision: 0.9097829766271235\n",
            "Recall: 0.9097614659667572\n",
            "F1 Score: 0.9097595065383489\n",
            "              precision    recall  f1-score   support\n",
            "\n",
            "           0       0.91      0.91      0.91    228508\n",
            "           1       0.91      0.91      0.91    229456\n",
            "\n",
            "    accuracy                           0.91    457964\n",
            "   macro avg       0.91      0.91      0.91    457964\n",
            "weighted avg       0.91      0.91      0.91    457964\n",
            "\n"
          ],
          "name": "stdout"
        }
      ]
    },
    {
      "cell_type": "markdown",
      "metadata": {
        "id": "BXF3EMUD9ix_",
        "colab_type": "text"
      },
      "source": [
        "**GRADIENT BOOSTING**"
      ]
    },
    {
      "cell_type": "code",
      "metadata": {
        "id": "zVCw5IDa_IU3",
        "colab_type": "code",
        "outputId": "55b797ae-c992-4f38-8e68-6d4d05654213",
        "colab": {
          "base_uri": "https://localhost:8080/",
          "height": 199
        }
      },
      "source": [
        "#before sampling\n",
        "gb = GradientBoostingClassifier()\n",
        "gb.fit(f_train,l_train)\n"
      ],
      "execution_count": 0,
      "outputs": [
        {
          "output_type": "execute_result",
          "data": {
            "text/plain": [
              "GradientBoostingClassifier(criterion='friedman_mse', init=None,\n",
              "                           learning_rate=0.1, loss='deviance', max_depth=3,\n",
              "                           max_features=None, max_leaf_nodes=None,\n",
              "                           min_impurity_decrease=0.0, min_impurity_split=None,\n",
              "                           min_samples_leaf=1, min_samples_split=2,\n",
              "                           min_weight_fraction_leaf=0.0, n_estimators=100,\n",
              "                           n_iter_no_change=None, presort='auto',\n",
              "                           random_state=None, subsample=1.0, tol=0.0001,\n",
              "                           validation_fraction=0.1, verbose=0,\n",
              "                           warm_start=False)"
            ]
          },
          "metadata": {
            "tags": []
          },
          "execution_count": 16
        }
      ]
    },
    {
      "cell_type": "code",
      "metadata": {
        "id": "AjsubeaO_khM",
        "colab_type": "code",
        "outputId": "94d13c22-a231-414c-9614-3cfe89bdfeee",
        "colab": {
          "base_uri": "https://localhost:8080/",
          "height": 235
        }
      },
      "source": [
        "pred = gb.predict(f_test)\n",
        "precision = precision_score(l_test, pred, average=\"weighted\")\n",
        "recall = recall_score(l_test, pred, average=\"weighted\")\n",
        "f1 = f1_score(l_test, pred, average=\"weighted\")\n",
        "print (\"Precision:\", precision)\n",
        "print (\"Recall:\", recall)\n",
        "print (\"F1 Score:\", f1)\n",
        "print(classification_report(l_test, pred))"
      ],
      "execution_count": 0,
      "outputs": [
        {
          "output_type": "stream",
          "text": [
            "Precision: 0.8979123090107278\n",
            "Recall: 0.8854211248045698\n",
            "F1 Score: 0.8845386780032166\n",
            "              precision    recall  f1-score   support\n",
            "\n",
            "           0       0.83      0.97      0.89    228508\n",
            "           1       0.97      0.80      0.87    229456\n",
            "\n",
            "    accuracy                           0.89    457964\n",
            "   macro avg       0.90      0.89      0.88    457964\n",
            "weighted avg       0.90      0.89      0.88    457964\n",
            "\n"
          ],
          "name": "stdout"
        }
      ]
    },
    {
      "cell_type": "code",
      "metadata": {
        "id": "nXRgEHI7_nIi",
        "colab_type": "code",
        "outputId": "3d8fce4d-e199-4b29-9544-295c14648443",
        "colab": {
          "base_uri": "https://localhost:8080/",
          "height": 235
        }
      },
      "source": [
        "# undersampled output\n",
        "rus = RandomUnderSampler(random_state=42)\n",
        "x, y = rus.fit_resample(f, l)\n",
        "f_train, f_test, l_train, l_test = train_test_split(x, y, test_size=0.20, random_state=42)\n",
        "gb = GradientBoostingClassifier()\n",
        "gb.fit(f_train,l_train)\n",
        "pred = gb.predict(f_test)\n",
        "precision = precision_score(l_test, pred, average=\"weighted\")\n",
        "recall = recall_score(l_test, pred, average=\"weighted\")\n",
        "f1 = f1_score(l_test, pred, average=\"weighted\")\n",
        "print (\"Precision:\", precision)\n",
        "print (\"Recall:\", recall)\n",
        "print (\"F1 Score:\", f1)\n",
        "print(classification_report(l_test, pred))"
      ],
      "execution_count": 0,
      "outputs": [
        {
          "output_type": "stream",
          "text": [
            "Precision: 0.8498203309323541\n",
            "Recall: 0.8392366854823582\n",
            "F1 Score: 0.8380313038702767\n",
            "              precision    recall  f1-score   support\n",
            "\n",
            "           0       0.79      0.93      0.85     58571\n",
            "           1       0.91      0.75      0.82     58707\n",
            "\n",
            "    accuracy                           0.84    117278\n",
            "   macro avg       0.85      0.84      0.84    117278\n",
            "weighted avg       0.85      0.84      0.84    117278\n",
            "\n"
          ],
          "name": "stdout"
        }
      ]
    },
    {
      "cell_type": "code",
      "metadata": {
        "id": "3XVZ5-7D_1uC",
        "colab_type": "code",
        "outputId": "78b24ce9-7cbe-4029-adbc-d299c54e8482",
        "colab": {
          "base_uri": "https://localhost:8080/",
          "height": 235
        }
      },
      "source": [
        "#oversampled output\n",
        "sos = SMOTE(random_state=42)\n",
        "x, y = sos.fit_resample(f, l)\n",
        "f_train, f_test, l_train, l_test = train_test_split(x, y, test_size=0.20, random_state=42)\n",
        "gb = GradientBoostingClassifier()\n",
        "gb.fit(f_train,l_train)\n",
        "pred = gb.predict(f_test)\n",
        "precision = precision_score(l_test, pred, average=\"weighted\")\n",
        "recall = recall_score(l_test, pred, average=\"weighted\")\n",
        "f1 = f1_score(l_test, pred, average=\"weighted\")\n",
        "print (\"Precision:\", precision)\n",
        "print (\"Recall:\", recall)\n",
        "print (\"F1 Score:\", f1)\n",
        "print(classification_report(l_test, pred))"
      ],
      "execution_count": 0,
      "outputs": [
        {
          "output_type": "stream",
          "text": [
            "Precision: 0.8979123090107278\n",
            "Recall: 0.8854211248045698\n",
            "F1 Score: 0.8845386780032166\n",
            "              precision    recall  f1-score   support\n",
            "\n",
            "           0       0.83      0.97      0.89    228508\n",
            "           1       0.97      0.80      0.87    229456\n",
            "\n",
            "    accuracy                           0.89    457964\n",
            "   macro avg       0.90      0.89      0.88    457964\n",
            "weighted avg       0.90      0.89      0.88    457964\n",
            "\n"
          ],
          "name": "stdout"
        }
      ]
    }
  ]
}