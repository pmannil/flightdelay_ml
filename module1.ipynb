{
  "nbformat": 4,
  "nbformat_minor": 0,
  "metadata": {
    "colab": {
      "name": "module1.ipynb",
      "version": "0.3.2",
      "provenance": [],
      "private_outputs": true,
      "collapsed_sections": [],
      "include_colab_link": true
    },
    "kernelspec": {
      "name": "python3",
      "display_name": "Python 3"
    },
    "accelerator": "GPU"
  },
  "cells": [
    {
      "cell_type": "markdown",
      "metadata": {
        "id": "view-in-github",
        "colab_type": "text"
      },
      "source": [
        "<a href=\"https://colab.research.google.com/github/pmannil/flightdelay_ml/blob/master/module1.ipynb\" target=\"_parent\"><img src=\"https://colab.research.google.com/assets/colab-badge.svg\" alt=\"Open In Colab\"/></a>"
      ]
    },
    {
      "cell_type": "code",
      "metadata": {
        "id": "4mMWv-Xfztbt",
        "colab_type": "code",
        "colab": {}
      },
      "source": [
        "from google.colab import drive\n",
        "drive.mount('/content/gdrive')"
      ],
      "execution_count": 0,
      "outputs": []
    },
    {
      "cell_type": "code",
      "metadata": {
        "id": "dU3aZ6sG0bX8",
        "colab_type": "code",
        "colab": {}
      },
      "source": [
        "import pandas as pd\n",
        "import numpy as np\n",
        "import os\n",
        "import glob\n",
        "import dask.dataframe as dd"
      ],
      "execution_count": 0,
      "outputs": []
    },
    {
      "cell_type": "code",
      "metadata": {
        "id": "npEEB-XEK8ei",
        "colab_type": "code",
        "colab": {}
      },
      "source": [
        "%cd /content/gdrive/My\\ Drive/flight\n",
        "!cat 2016/*.csv > combined.csv\n",
        "!cat 2017/*.csv >> combined.csv"
      ],
      "execution_count": 0,
      "outputs": []
    },
    {
      "cell_type": "code",
      "metadata": {
        "id": "4Yd8UDdyWfLL",
        "colab_type": "code",
        "colab": {}
      },
      "source": [
        "\n",
        "df = pd.read_csv(\"/content/gdrive/My Drive/flight/combined.csv\",usecols = ['FlightDate','Quarter','Year','Month','DayofMonth','DepTime','DepDel15','CRSDepTime','DepDelayMinutes','OriginAirportID','DestAirportID','ArrTime','CRSArrTime','ArrDel15','ArrDelayMinutes','Origin','Dest'])"
      ],
      "execution_count": 0,
      "outputs": []
    },
    {
      "cell_type": "code",
      "metadata": {
        "id": "HUTxmrQL9wQP",
        "colab_type": "code",
        "colab": {}
      },
      "source": [
        "df.head(4)\n"
      ],
      "execution_count": 0,
      "outputs": []
    },
    {
      "cell_type": "code",
      "metadata": {
        "id": "7D_gOgNLVm1n",
        "colab_type": "code",
        "colab": {}
      },
      "source": [
        "df.shape"
      ],
      "execution_count": 0,
      "outputs": []
    },
    {
      "cell_type": "code",
      "metadata": {
        "id": "Z6H4WqeYCWCU",
        "colab_type": "code",
        "colab": {}
      },
      "source": [
        "filter1=df[\"Origin\"].isin([\"ALT\",\"CLT\",\"DEN\",\"DFW\",\"EWR\",\"IAH\",\"JFK\",\"LAS\",\"LAX\",\"MCO\",\"MIA\",\"ORD\",\"PHX\",\"SEA\",\"SFO\"])\n",
        "filter2=df[\"Dest\"].isin([\"ALT\",\"CLT\",\"DEN\",\"DFW\",\"EWR\",\"IAH\",\"JFK\",\"LAS\",\"LAX\",\"MCO\",\"MIA\",\"ORD\",\"PHX\",\"SEA\",\"SFO\"])\n",
        "df1=df[filter1&filter2]"
      ],
      "execution_count": 0,
      "outputs": []
    },
    {
      "cell_type": "code",
      "metadata": {
        "id": "X7_IilA7Emn3",
        "colab_type": "code",
        "colab": {}
      },
      "source": [
        "df1.head()"
      ],
      "execution_count": 0,
      "outputs": []
    },
    {
      "cell_type": "code",
      "metadata": {
        "id": "nJzTSiXJWQV0",
        "colab_type": "code",
        "colab": {}
      },
      "source": [
        "df1.shape"
      ],
      "execution_count": 0,
      "outputs": []
    },
    {
      "cell_type": "code",
      "metadata": {
        "id": "zhrqZ7mhHmz9",
        "colab_type": "code",
        "colab": {}
      },
      "source": [
        "l = os.listdir('/content/gdrive/My Drive/weather/2016/')\n",
        "l = list(map(lambda z: '/content/gdrive/My Drive/weather/2016/'+z, l))\n",
        "l1 = os.listdir('/content/gdrive/My Drive/weather/2017/')\n",
        "l1 = list(map(lambda z: '/content/gdrive/My Drive/weather/2017/'+z, l1))"
      ],
      "execution_count": 0,
      "outputs": []
    },
    {
      "cell_type": "code",
      "metadata": {
        "id": "NXzNs3zCJPGz",
        "colab_type": "code",
        "colab": {}
      },
      "source": [
        "l1=l+l1\n"
      ],
      "execution_count": 0,
      "outputs": []
    },
    {
      "cell_type": "code",
      "metadata": {
        "id": "08o7gu70Jj7g",
        "colab_type": "code",
        "colab": {}
      },
      "source": [
        "import json\n",
        "l2=[]\n",
        "for i in range(360):\n",
        "  with open(l1[i],'r') as file:\n",
        "     l2.append(json.load(file))\n",
        "\n",
        "\n",
        "  "
      ],
      "execution_count": 0,
      "outputs": []
    },
    {
      "cell_type": "code",
      "metadata": {
        "id": "47IYl5YALB5g",
        "colab_type": "code",
        "colab": {}
      },
      "source": [
        "\n",
        "\n",
        "  \n",
        "\n",
        "import re  \n",
        "a=[]\n",
        "for i in range(360): \n",
        "  for y in range(28):\n",
        "    for x in range(24):\n",
        "        \n",
        "        \n",
        "          a.append({'WindSpeedKmph':l2[i]['data']['weather'][y]['hourly'][x]['windspeedKmph'],\n",
        "          'WindDirDegree':l2[i]['data']['weather'][y]['hourly'][x]['winddirDegree'],\n",
        "          'WeatherCode':l2[i]['data']['weather'][y]['hourly'][x]['weatherCode'],\n",
        "          'precipMM':l2[i]['data']['weather'][y]['hourly'][x]['precipMM'],\n",
        "          'Visibilty':l2[i]['data']['weather'][y]['hourly'][x]['visibility'],\n",
        "          'Pressure':l2[i]['data']['weather'][y]['hourly'][x]['pressure'],\n",
        "          'Cloudcover':l2[i]['data']['weather'][y]['hourly'][x]['cloudcover'],\n",
        "          'DewPointF':l2[i]['data']['weather'][y]['hourly'][x]['DewPointF'],\n",
        "          'WindGustKmph':l2[i]['data']['weather'][y]['hourly'][x]['WindGustKmph'],\n",
        "          'tempF':l2[i]['data']['weather'][y]['hourly'][x]['tempF'],\n",
        "          'WindChillF':l2[i]['data']['weather'][y]['hourly'][x]['WindChillF'],\n",
        "          'Humidity':l2[i]['data']['weather'][y]['hourly'][x]['humidity'],\n",
        "          'date':l2[i]['data']['weather'][y]['date'],\n",
        "          'time': l2[i]['data']['weather'][y]['hourly'][x]['time'],\n",
        "          'airport':re.split(',',l2[i]['data']['request'][0]['query'])[0]})\n",
        "          \n",
        "        \n",
        "    if(re.split('-',l2[i]['data']['weather'][y]['date'])[0]==2016):\n",
        "       flat(28)\n",
        "    if(re.split('-',l2[i]['data']['weather'][y]['date'])[0]==2017 and re.split('-',l2[i]['data']['weather'][y]['date'])[1]!=2):\n",
        "        flat(28)\n",
        "    if(re.split('-',l2[i]['data']['weather'][y]['date'])[1]==1 or re.split('-',l2[i]['data']['weather'][y]['date'])[1]==3 or re.split('-',l2[i]['data']['weather'][y]['date'])[1]==5 \n",
        "      or re.split('-',l2[i]['data']['weather'][y]['date'])[1]==7 or re.split('-',l2[i]['data']['weather'][y]['date'])[1]==8 or re.split('-',l2[i]['data']['weather'][y]['date'])[1]==10 or re.split('-',l2[i]['data']['weather'][y]['date'])[1]==12):\n",
        "        flat(29)\n",
        "        flat(30)\n",
        "    if(re.split('-',l2[i]['data']['weather'][y]['date'])[1]==4 or re.split('-',l2[i]['data']['weather'][y]['date'])[1]==6 or re.split('-',l2[i]['data']['weather'][y]['date'])[1]==9 \n",
        "       or re.split('-',l2[i]['data']['weather'][y]['date'])[1]==11):\n",
        "        flat(29)\n",
        "\n",
        "          "
      ],
      "execution_count": 0,
      "outputs": []
    },
    {
      "cell_type": "code",
      "metadata": {
        "id": "ZbKBTE_oXY3X",
        "colab_type": "code",
        "colab": {}
      },
      "source": [
        "\n",
        "def flat(n):\n",
        "  for x in range(24):\n",
        "    a.append({'WindSpeedKmph':l2[i]['data']['weather'][n]['hourly'][x]['windspeedKmph'],\n",
        "          'WindDirDegree':l2[i]['data']['weather'][n]['hourly'][x]['winddirDegree'],\n",
        "          'WeatherCode':l2[i]['data']['weather'][n]['hourly'][x]['weatherCode'],\n",
        "          'precipMM':l2[i]['data']['weather'][n]['hourly'][x]['precipMM'],\n",
        "          'Visibilty':l2[i]['data']['weather'][n]['hourly'][x]['visibility'],\n",
        "          'Pressure':l2[i]['data']['weather'][n]['hourly'][x]['pressure'],\n",
        "          'Cloudcover':l2[i]['data']['weather'][n]['hourly'][x]['cloudcover'],\n",
        "          'DewPointF':l2[i]['data']['weather'][n]['hourly'][x]['DewPointF'],\n",
        "          'WindGustKmph':l2[i]['data']['weather'][n]['hourly'][x]['WindGustKmph'],\n",
        "          'tempF':l2[i]['data']['weather'][n]['hourly'][x]['tempF'],\n",
        "          'WindChillF':l2[i]['data']['weather'][n]['hourly'][x]['WindChillF'],\n",
        "          'Humidity':l2[i]['data']['weather'][n]['hourly'][x]['humidity'],\n",
        "          'date':l2[i]['data']['weather'][n]['date'],\n",
        "          'time': l2[i]['data']['weather'][n]['hourly'][x]['time'],\n",
        "          'airport':re.split(',',l2[i]['data']['request'][0]['query'])[0]})\n",
        "  "
      ],
      "execution_count": 0,
      "outputs": []
    },
    {
      "cell_type": "code",
      "metadata": {
        "id": "O1IgfV_FLmWt",
        "colab_type": "code",
        "colab": {}
      },
      "source": [
        "df4 = pd.DataFrame(a)"
      ],
      "execution_count": 0,
      "outputs": []
    },
    {
      "cell_type": "code",
      "metadata": {
        "id": "AEvttaKc8Ae5",
        "colab_type": "code",
        "colab": {}
      },
      "source": [
        "df4.shape"
      ],
      "execution_count": 0,
      "outputs": []
    },
    {
      "cell_type": "code",
      "metadata": {
        "id": "gABUY4DvM1dz",
        "colab_type": "code",
        "colab": {}
      },
      "source": [
        "df4.tail()"
      ],
      "execution_count": 0,
      "outputs": []
    },
    {
      "cell_type": "code",
      "metadata": {
        "id": "drJnd4_dVjV6",
        "colab_type": "code",
        "colab": {}
      },
      "source": [
        "df1['DepTime']=df1.DepTime.astype(int)\n",
        "a=list(df1['DepTime'])\n",
        "\n",
        "\n"
      ],
      "execution_count": 0,
      "outputs": []
    },
    {
      "cell_type": "code",
      "metadata": {
        "id": "5nMIKVz9eQaV",
        "colab_type": "code",
        "colab": {}
      },
      "source": [
        "df1['ArrTime']=df1.ArrTime.astype(int)\n",
        "a2=list(df1['ArrTime'])\n",
        "a2"
      ],
      "execution_count": 0,
      "outputs": []
    },
    {
      "cell_type": "code",
      "metadata": {
        "id": "o6NVH0HgV6kf",
        "colab_type": "code",
        "colab": {}
      },
      "source": [
        "def get_last_digits(num, last_digits_count=2):\n",
        "    return int(str(num)[-last_digits_count:])\n"
      ],
      "execution_count": 0,
      "outputs": []
    },
    {
      "cell_type": "code",
      "metadata": {
        "id": "QNlE1illbHvA",
        "colab_type": "code",
        "colab": {}
      },
      "source": [
        "a1=[]\n",
        "for i in range(len(a)):\n",
        "  if(get_last_digits(a[i])<=30):\n",
        "   a1.append(a[i]-get_last_digits(a[i]))\n",
        "  elif(get_last_digits(a[i])>30):\n",
        "   a1.append(a[i]-get_last_digits(a[i])+100)\n",
        "a1\n",
        "  \n",
        "  "
      ],
      "execution_count": 0,
      "outputs": []
    },
    {
      "cell_type": "code",
      "metadata": {
        "id": "ZRTFm-Xc9J7E",
        "colab_type": "code",
        "colab": {}
      },
      "source": [
        "\n",
        "a3=[]\n",
        "for i in range(len(a2)):\n",
        "  if(get_last_digits(a2[i])<=30):\n",
        "   a3.append(a2[i]-get_last_digits(a2[i]))\n",
        "  elif(get_last_digits(a2[i])>30):\n",
        "   a3.append(a2[i]-get_last_digits(a2[i])+100)\n",
        "a3\n",
        "  "
      ],
      "execution_count": 0,
      "outputs": []
    },
    {
      "cell_type": "code",
      "metadata": {
        "id": "o0kLqtDu9euA",
        "colab_type": "code",
        "colab": {}
      },
      "source": [
        "for i in range(len(a)):\n",
        "  if(a2[i]==2400):\n",
        "   a2[i]=0"
      ],
      "execution_count": 0,
      "outputs": []
    },
    {
      "cell_type": "code",
      "metadata": {
        "id": "BTMQdPggeaUv",
        "colab_type": "code",
        "colab": {}
      },
      "source": [
        "for i in range(len(a)):\n",
        "  if(a3[i]==2400):\n",
        "   a3[i]=0"
      ],
      "execution_count": 0,
      "outputs": []
    },
    {
      "cell_type": "code",
      "metadata": {
        "id": "_o3n1Ac7egoy",
        "colab_type": "code",
        "colab": {}
      },
      "source": [
        "df1['nearest_hoursArr']=np.array(a3)"
      ],
      "execution_count": 0,
      "outputs": []
    },
    {
      "cell_type": "code",
      "metadata": {
        "id": "KA1MlHn-dmiW",
        "colab_type": "code",
        "colab": {}
      },
      "source": [
        "df1['nearest_hoursDep']=np.array(a1)"
      ],
      "execution_count": 0,
      "outputs": []
    },
    {
      "cell_type": "code",
      "metadata": {
        "id": "ePn5oOXJzwDa",
        "colab_type": "code",
        "colab": {}
      },
      "source": [
        "df4['time']=df4.time.astype(int)\n"
      ],
      "execution_count": 0,
      "outputs": []
    },
    {
      "cell_type": "code",
      "metadata": {
        "id": "9VxjUuT2e1A8",
        "colab_type": "code",
        "colab": {}
      },
      "source": [
        "inner=pd.merge(df4,df1,left_on=['airport','date','time'],right_on=['Origin','FlightDate','nearest_hoursDep'])"
      ],
      "execution_count": 0,
      "outputs": []
    },
    {
      "cell_type": "code",
      "metadata": {
        "id": "etulm__TpYCW",
        "colab_type": "code",
        "colab": {}
      },
      "source": [
        "inner1=pd.merge(df4,inner,left_on=['airport','date','time'],right_on=['Origin','FlightDate','nearest_hoursArr'])"
      ],
      "execution_count": 0,
      "outputs": []
    },
    {
      "cell_type": "code",
      "metadata": {
        "id": "DL3YECrboF1x",
        "colab_type": "code",
        "colab": {}
      },
      "source": [
        "inner.head()\n"
      ],
      "execution_count": 0,
      "outputs": []
    },
    {
      "cell_type": "code",
      "metadata": {
        "id": "JRza4OiroeOQ",
        "colab_type": "code",
        "colab": {}
      },
      "source": [
        "pf=inner.drop(['nearest_hoursArr', 'nearest_hoursDep'], axis=1)"
      ],
      "execution_count": 0,
      "outputs": []
    },
    {
      "cell_type": "code",
      "metadata": {
        "id": "KkqMPa29v8RN",
        "colab_type": "code",
        "colab": {}
      },
      "source": [
        "pf.head()"
      ],
      "execution_count": 0,
      "outputs": []
    },
    {
      "cell_type": "code",
      "metadata": {
        "id": "BmGkxCY5peib",
        "colab_type": "code",
        "colab": {}
      },
      "source": [
        "pf.to_csv('1.csv')\n"
      ],
      "execution_count": 0,
      "outputs": []
    }
  ]
}